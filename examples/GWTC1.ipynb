{
  "nbformat": 4,
  "nbformat_minor": 0,
  "metadata": {
    "colab": {
      "name": "GWTC1.ipynb",
      "version": "0.3.2",
      "provenance": [],
      "collapsed_sections": [],
      "toc_visible": true,
      "include_colab_link": true
    },
    "kernelspec": {
      "name": "python3",
      "display_name": "Python 3"
    },
    "accelerator": "GPU"
  },
  "cells": [
    {
      "cell_type": "markdown",
      "metadata": {
        "id": "view-in-github",
        "colab_type": "text"
      },
      "source": [
        "<a href=\"https://colab.research.google.com/github/ColmTalbot/gwpopulation/blob/master/examples/GWTC1.ipynb\" target=\"_parent\"><img src=\"https://colab.research.google.com/assets/colab-badge.svg\" alt=\"Open In Colab\"/></a>"
      ]
    },
    {
      "metadata": {
        "id": "kiawJMuzaMqA",
        "colab_type": "text"
      },
      "cell_type": "markdown",
      "source": [
        "\n",
        "# Population Inference on GWTC-1\n",
        "\n",
        "\n",
        "\n"
      ]
    },
    {
      "metadata": {
        "id": "U6RH_xfNbBb3",
        "colab_type": "text"
      },
      "cell_type": "markdown",
      "source": [
        "## Install some packages\n",
        "\n",
        "- `gwpopulation` has the population model code.\n",
        "- `cupy` allows use to leverage the GPU."
      ]
    },
    {
      "metadata": {
        "id": "WT13XqcsZoie",
        "colab_type": "code",
        "colab": {
          "base_uri": "https://localhost:8080/",
          "height": 460
        },
        "outputId": "58023b08-5046-4a3b-bae8-1c9dfff6afd9"
      },
      "cell_type": "code",
      "source": [
        "!pip install gwpopulation"
      ],
      "execution_count": 2,
      "outputs": [
        {
          "output_type": "stream",
          "text": [
            "Collecting gwpopulation\n",
            "  Downloading https://files.pythonhosted.org/packages/15/01/6863f0f088e15d03d23ad8af5dc595f08cc005227a300f4b64cb87ed65ef/gwpopulation-0.3.0-py3-none-any.whl\n",
            "Requirement already satisfied, skipping upgrade: astropy in /usr/local/lib/python3.6/dist-packages (from gwpopulation) (3.0.5)\n",
            "Requirement already satisfied, skipping upgrade: scipy in /usr/local/lib/python3.6/dist-packages (from gwpopulation) (1.1.0)\n",
            "Requirement already satisfied, skipping upgrade: bilby in /usr/local/lib/python3.6/dist-packages (from gwpopulation) (0.4.1)\n",
            "Requirement already satisfied, skipping upgrade: numpy in /usr/local/lib/python3.6/dist-packages (from gwpopulation) (1.14.6)\n",
            "Requirement already satisfied, skipping upgrade: future in /usr/local/lib/python3.6/dist-packages (from gwpopulation) (0.16.0)\n",
            "Requirement already satisfied, skipping upgrade: corner in /usr/local/lib/python3.6/dist-packages (from bilby->gwpopulation) (2.0.1)\n",
            "Requirement already satisfied, skipping upgrade: matplotlib>=2.0 in /usr/local/lib/python3.6/dist-packages (from bilby->gwpopulation) (3.0.3)\n",
            "Requirement already satisfied, skipping upgrade: deepdish in /usr/local/lib/python3.6/dist-packages (from bilby->gwpopulation) (0.3.6)\n",
            "Requirement already satisfied, skipping upgrade: dynesty in /usr/local/lib/python3.6/dist-packages (from bilby->gwpopulation) (0.9.5.1)\n",
            "Requirement already satisfied, skipping upgrade: pandas in /usr/local/lib/python3.6/dist-packages (from bilby->gwpopulation) (0.22.0)\n",
            "Requirement already satisfied, skipping upgrade: kiwisolver>=1.0.1 in /usr/local/lib/python3.6/dist-packages (from matplotlib>=2.0->bilby->gwpopulation) (1.0.1)\n",
            "Requirement already satisfied, skipping upgrade: cycler>=0.10 in /usr/local/lib/python3.6/dist-packages (from matplotlib>=2.0->bilby->gwpopulation) (0.10.0)\n",
            "Requirement already satisfied, skipping upgrade: python-dateutil>=2.1 in /usr/local/lib/python3.6/dist-packages (from matplotlib>=2.0->bilby->gwpopulation) (2.5.3)\n",
            "Requirement already satisfied, skipping upgrade: pyparsing!=2.0.4,!=2.1.2,!=2.1.6,>=2.0.1 in /usr/local/lib/python3.6/dist-packages (from matplotlib>=2.0->bilby->gwpopulation) (2.3.1)\n",
            "Requirement already satisfied, skipping upgrade: tables in /usr/local/lib/python3.6/dist-packages (from deepdish->bilby->gwpopulation) (3.4.4)\n",
            "Requirement already satisfied, skipping upgrade: six in /usr/local/lib/python3.6/dist-packages (from dynesty->bilby->gwpopulation) (1.11.0)\n",
            "Requirement already satisfied, skipping upgrade: pytz>=2011k in /usr/local/lib/python3.6/dist-packages (from pandas->bilby->gwpopulation) (2018.9)\n",
            "Requirement already satisfied, skipping upgrade: setuptools in /usr/local/lib/python3.6/dist-packages (from kiwisolver>=1.0.1->matplotlib>=2.0->bilby->gwpopulation) (40.8.0)\n",
            "Requirement already satisfied, skipping upgrade: numexpr>=2.5.2 in /usr/local/lib/python3.6/dist-packages (from tables->deepdish->bilby->gwpopulation) (2.6.9)\n",
            "Installing collected packages: gwpopulation\n",
            "  Found existing installation: gwpopulation 0.2.0\n",
            "    Uninstalling gwpopulation-0.2.0:\n",
            "      Successfully uninstalled gwpopulation-0.2.0\n",
            "Successfully installed gwpopulation-0.3.0\n"
          ],
          "name": "stdout"
        }
      ]
    },
    {
      "metadata": {
        "id": "1tjorhzLaoU2",
        "colab_type": "code",
        "colab": {
          "base_uri": "https://localhost:8080/",
          "height": 212
        },
        "outputId": "f1b502a0-4387-4cf6-cdc5-3fbbf7928c6a"
      },
      "cell_type": "code",
      "source": [
        "!pip install cupy"
      ],
      "execution_count": 3,
      "outputs": [
        {
          "output_type": "stream",
          "text": [
            "Collecting cupy\n",
            "\u001b[?25l  Downloading https://files.pythonhosted.org/packages/c2/5d/cfb128bc2296ca2e9665962147ff56bd121738ab849ae4e1d5e6603ffd4c/cupy-5.3.0.tar.gz (2.5MB)\n",
            "\u001b[K    100% |████████████████████████████████| 2.5MB 9.9MB/s \n",
            "\u001b[?25hRequirement already satisfied: numpy>=1.9.0 in /usr/local/lib/python3.6/dist-packages (from cupy) (1.14.6)\n",
            "Requirement already satisfied: six>=1.9.0 in /usr/local/lib/python3.6/dist-packages (from cupy) (1.11.0)\n",
            "Requirement already satisfied: fastrlock>=0.3 in /usr/local/lib/python3.6/dist-packages (from cupy) (0.4)\n",
            "Building wheels for collected packages: cupy\n",
            "  Building wheel for cupy (setup.py) ... \u001b[?25ldone\n",
            "\u001b[?25h  Stored in directory: /root/.cache/pip/wheels/f6/75/a5/0ebbfb438ad45666653b8b527e9432b6771b8c7df1d771b6b5\n",
            "Successfully built cupy\n",
            "Installing collected packages: cupy\n",
            "Successfully installed cupy-5.3.0\n"
          ],
          "name": "stdout"
        }
      ]
    },
    {
      "metadata": {
        "id": "rxjmzikYa0bb",
        "colab_type": "text"
      },
      "cell_type": "markdown",
      "source": [
        "## Get the data\n",
        "\n",
        "Pull the posterior samples for each of the events from the LIGO dcc."
      ]
    },
    {
      "metadata": {
        "id": "GXZpNd3cZ3hF",
        "colab_type": "code",
        "colab": {
          "base_uri": "https://localhost:8080/",
          "height": 157
        },
        "outputId": "896c6ac1-f88b-43ad-a62e-d8a65694c42d"
      },
      "cell_type": "code",
      "source": [
        "!wget https://dcc.ligo.org/public/0157/P1800370/002/GWTC-1_sample_release.tar.gz\n",
        "!tar -xvzf GWTC-1_sample_release.tar.gz"
      ],
      "execution_count": 0,
      "outputs": [
        {
          "output_type": "stream",
          "text": [
            "--2019-03-18 05:36:37--  https://dcc.ligo.org/public/0157/P1800370/002/GWTC-1_sample_release.tar.gz\n",
            "Resolving dcc.ligo.org (dcc.ligo.org)... 131.215.125.133\n",
            "Connecting to dcc.ligo.org (dcc.ligo.org)|131.215.125.133|:443... connected.\n",
            "HTTP request sent, awaiting response... 200 OK\n",
            "Length: 89895447 (86M) [application/x-gzip]\n",
            "Saving to: ‘GWTC-1_sample_release.tar.gz.1’\n",
            "\n",
            "\r          GWTC-1_sa   0%[                    ]       0  --.-KB/s               "
          ],
          "name": "stdout"
        }
      ]
    },
    {
      "metadata": {
        "id": "XcfDOjMKazRY",
        "colab_type": "code",
        "colab": {}
      },
      "cell_type": "code",
      "source": [
        ""
      ],
      "execution_count": 0,
      "outputs": []
    },
    {
      "metadata": {
        "id": "NLEgW_zrbNPw",
        "colab_type": "text"
      },
      "cell_type": "markdown",
      "source": [
        "## Imports\n",
        "\n",
        "Import the packages required for the script."
      ]
    },
    {
      "metadata": {
        "id": "7zJiHR7rayRR",
        "colab_type": "code",
        "colab": {}
      },
      "cell_type": "code",
      "source": [
        "%pylab inline\n",
        "\n",
        "import h5py\n",
        "\n",
        "import pandas as pd\n",
        "from scipy.interpolate import interp1d\n",
        "from astropy import cosmology, units\n",
        "\n",
        "import bilby as bb\n",
        "from bilby.core.prior import LogUniform, PriorDict, Uniform\n",
        "from bilby.hyper.model import Model\n",
        "import gwpopulation as gwpop\n",
        "xp = gwpop.cupy_utils.xp"
      ],
      "execution_count": 0,
      "outputs": []
    },
    {
      "metadata": {
        "id": "hm3_uaQRbXmS",
        "colab_type": "text"
      },
      "cell_type": "markdown",
      "source": [
        "## Load posteriors\n",
        "\n",
        "We're using the posteriors from the GWTC-1 data release.\n",
        "\n",
        "We need to change the names of the parameters to make them work with the code."
      ]
    },
    {
      "metadata": {
        "id": "BojmLvpxbYwM",
        "colab_type": "code",
        "colab": {}
      },
      "cell_type": "code",
      "source": [
        "parameter_translator = dict(\n",
        "    mass_1_det='m1_detector_frame_Msun',\n",
        "    mass_2_det='m2_detector_frame_Msun',\n",
        "    luminosity_distance='luminosity_distance_Mpc',\n",
        "    a_1='spin1',\n",
        "    a_2='spin2',\n",
        "    cos_tilt_1='costilt1',\n",
        "    cos_tilt_2='costilt2')\n",
        "\n",
        "posteriors = list()\n",
        "priors = list()\n",
        "\n",
        "file_str = './GWTC-1_sample_release/GW{}_GWTC-1.hdf5'\n",
        "\n",
        "events = ['150914', '151012', '151226', '170104', '170608',\n",
        "          '170729', '170809', '170814', '170818', '170823']\n",
        "for event in events:\n",
        "    _posterior = pd.DataFrame()\n",
        "    _prior = pd.DataFrame()\n",
        "    with h5py.File(file_str.format(event)) as ff:\n",
        "        for my_key, gwtc_key in parameter_translator.items():\n",
        "            _posterior[my_key] = ff['IMRPhenomPv2_posterior'][gwtc_key]\n",
        "            _prior[my_key] = ff['prior'][gwtc_key]\n",
        "    posteriors.append(_posterior)\n",
        "    priors.append(_prior)"
      ],
      "execution_count": 0,
      "outputs": []
    },
    {
      "metadata": {
        "id": "ol2czCPkblx6",
        "colab_type": "code",
        "colab": {}
      },
      "cell_type": "code",
      "source": [
        "luminosity_distances = np.linspace(1, 10000, 1000)\n",
        "redshifts = np.array([\n",
        "    cosmology.z_at_value(\n",
        "        cosmology.Planck15.luminosity_distance, dl * units.Mpc)\n",
        "    for dl in luminosity_distances])\n",
        "dl_to_z = interp1d(luminosity_distances, redshifts)\n",
        "\n",
        "luminosity_prior = luminosity_distances ** 2\n",
        "\n",
        "dz_ddl = np.gradient(redshifts, luminosity_distances)\n",
        "\n",
        "redshift_prior = interp1d(\n",
        "    redshifts, luminosity_prior / dz_ddl / (1 + redshifts))"
      ],
      "execution_count": 0,
      "outputs": []
    },
    {
      "metadata": {
        "id": "9zlAGxTxRUIn",
        "colab_type": "text"
      },
      "cell_type": "markdown",
      "source": [
        "## Add some weights to posterior\n",
        "\n",
        "Make sure the posterior `DataFrames` contain the appropriate quantities.\n",
        "\n",
        "We include a `prior` column, this is the prior used in the initial sampling stage.\n",
        "This is used to weight the samples in the likelihood."
      ]
    },
    {
      "metadata": {
        "id": "hTqr-NvTbn4c",
        "colab_type": "code",
        "colab": {}
      },
      "cell_type": "code",
      "source": [
        "for posterior in posteriors:\n",
        "    posterior['redshift'] = dl_to_z(posterior['luminosity_distance'])\n",
        "    posterior['mass_1'] = posterior['mass_1_det'] / (1 + posterior['redshift'])\n",
        "    posterior['mass_2'] = posterior['mass_2_det'] / (1 + posterior['redshift'])\n",
        "    posterior['mass_ratio'] = posterior['mass_2'] / posterior['mass_1']\n",
        "    posterior['prior'] = (1 + posterior['redshift'])**2"
      ],
      "execution_count": 0,
      "outputs": []
    },
    {
      "metadata": {
        "id": "Bx1xdvjubhmA",
        "colab_type": "text"
      },
      "cell_type": "markdown",
      "source": [
        "## Specify the model\n",
        "\n",
        "Choose which population models we want to use. \n",
        "\n",
        "For the mass distribution we use \n",
        "\n",
        "`gwpopulation.models.mass.two_component_primary_mass_ratio`.\n",
        "\n",
        "This is a powerlaw + Gaussian mass distribution with powerlaw mass ratio distribution.\n",
        "\n",
        "For spins we use\n",
        "\n",
        "`gwpopulation.models.spin.iid_spin`\n",
        "\n",
        "Where the spins of the two black holes are independently and identically distirbuted with a beta distribution for the magnitude and an isotropic + half-Gaussian for the cosine tilts."
      ]
    },
    {
      "metadata": {
        "id": "rHspMjv-bpyZ",
        "colab_type": "code",
        "colab": {}
      },
      "cell_type": "code",
      "source": [
        "model = Model([gwpop.models.mass.two_component_primary_mass_ratio])"
      ],
      "execution_count": 0,
      "outputs": []
    },
    {
      "metadata": {
        "id": "7NwQL52xbrxr",
        "colab_type": "text"
      },
      "cell_type": "markdown",
      "source": [
        "## Selection effects\n",
        "\n",
        "Gravitational-wave surveys suffer from Malmquist bias.\n",
        "\n",
        "In order to measure the true, astrophysical, distribution we must include a term to account for this in our population analyses.\n",
        "\n",
        "The way the likelihood is structured, this can be any object that evaluates to give the observed spactime volume as a function of the population parameters.\n",
        "\n",
        "We define classes so that various bits of metadata can be stored.\n",
        "\n",
        "The data for calculating this is not easily available.\n",
        "We use a very rough toy model to get the general scaling for the primary mass, $VT(m) \\sim m^{1.6}$.\n",
        "This value was chosen to get a decent agreement with the more complex model.\n",
        "\n",
        "**I do not recommend using this toy function for science.**"
      ]
    },
    {
      "metadata": {
        "id": "wmgJOa57bttM",
        "colab_type": "code",
        "colab": {}
      },
      "cell_type": "code",
      "source": [
        "masses = xp.linspace(3, 100, 1000)\n",
        "vts = masses**1.6\n",
        "\n",
        "def toy_vt_calculator(kwargs):\n",
        "    params = {key: kwargs[key] for key in \n",
        "              ['alpha', 'mmin', 'mmax', 'lam', 'mpp', 'sigpp']}\n",
        "    p_m = gwpop.models.mass.two_component_single(\n",
        "        masses, **params)\n",
        "    return gwpop.cupy_utils.trapz(p_m * vts, masses)"
      ],
      "execution_count": 0,
      "outputs": []
    },
    {
      "metadata": {
        "id": "LsHr0RCCb18B",
        "colab_type": "text"
      },
      "cell_type": "markdown",
      "source": [
        "## Define the likelihood\n",
        "\n",
        "The `HyperparameterLikelihood` marginalises over the local merger rate, with a uniform-in-log prior.\n",
        "\n",
        "To also estimate the rate use the `RateLikelilhood` (see further on in the notebook).\n",
        "\n",
        "We provide:\n",
        "- `posteriors`: a list of `pandas` DataFrames\n",
        "- `hyper_prior`: our population model, as defined above\n",
        "- `selection_function`: anything which evaluates the selection function\n",
        "\n",
        "We can also provide:\n",
        "- `conversion_function`: this converts between the parameters we sample in and those needed by the model, e.g., for sampling in the mean and variance of the beta distribution\n",
        "- `max_samples`: the maximum number of samples to use from each posterior, this defaults to the length of the shortest posterior\n",
        "\n",
        "We may get a warning telling us `cupy` is not available and so `numpy` is for the likelihood evaluation.\n",
        "This will go away if you have a GPU and `cupy` installed."
      ]
    },
    {
      "metadata": {
        "id": "0NhriPjTbzT7",
        "colab_type": "code",
        "colab": {}
      },
      "cell_type": "code",
      "source": [
        "fast_likelihood = gwpop.hyperpe.HyperparameterLikelihood(\n",
        "    posteriors=posteriors, hyper_prior=model,\n",
        "    selection_function=toy_vt_calculator)"
      ],
      "execution_count": 0,
      "outputs": []
    },
    {
      "metadata": {
        "id": "6HuGzAh1b7FQ",
        "colab_type": "text"
      },
      "cell_type": "markdown",
      "source": [
        "## Define the prior\n",
        "\n",
        "This is the standard method to define the prior distribution within `bilby`.\n",
        "\n",
        "The labels are used in plotting.\n",
        "\n",
        "Numbers are converted to delta function priors and are not sampled.\n",
        "\n",
        "There are many other distributions available, see the code/documentation for a full list."
      ]
    },
    {
      "metadata": {
        "id": "7pD90QeEb9aV",
        "colab_type": "code",
        "colab": {}
      },
      "cell_type": "code",
      "source": [
        "fast_priors = PriorDict()\n",
        "\n",
        "# mass\n",
        "fast_priors['alpha'] = Uniform(minimum=-2, maximum=4, latex_label='$\\\\alpha$')\n",
        "fast_priors['beta'] = Uniform(minimum=-4, maximum=12, latex_label='$\\\\beta$')\n",
        "fast_priors['mmin'] = Uniform(minimum=5, maximum=10, latex_label='$m_{\\\\min}$')\n",
        "fast_priors['mmax'] = Uniform(minimum=20, maximum=60, latex_label='$m_{\\\\max}$')\n",
        "fast_priors['lam'] = Uniform(minimum=0, maximum=1, latex_label='$\\\\lambda_{m}$')\n",
        "fast_priors['mpp'] = Uniform(minimum=10, maximum=50, latex_label='$\\\\mu_{m}$')\n",
        "fast_priors['sigpp'] = Uniform(minimum=0, maximum=10, latex_label='$\\\\sigma_{m}$')\n",
        "# spin\n",
        "fast_priors['amax'] = 1\n",
        "fast_priors['alpha_chi'] = Uniform(minimum=-4, maximum=12, latex_label='$\\\\alpha_{\\\\chi}$')\n",
        "fast_priors['beta_chi'] = Uniform(minimum=-4, maximum=12, latex_label='$\\\\beta_{\\\\chi}$')\n",
        "fast_priors['xi_spin'] = Uniform(minimum=0, maximum=1, latex_label='$\\\\xi$')"
      ],
      "execution_count": 0,
      "outputs": []
    },
    {
      "metadata": {
        "id": "hOXy6gHmcAVf",
        "colab_type": "text"
      },
      "cell_type": "markdown",
      "source": [
        "## Run the sampler\n",
        "\n",
        "We'll use the sampler `dynesty` and use a small number of live points to reduce the runtime.\n",
        "\n",
        "This is painfully slow without using the GPU version.\n",
        "If you have a GPU it will just work.\n",
        "\n",
        "Other samplers are available, `cpnest` gave the best results for the O1+O2 data, however it isn't currently compatible with the GPU likelihood.\n",
        "\n",
        "`bilby` times a single likelihood evaluation before beginning the run\n",
        "\n",
        "We do a call before running to sampler as `cupy` compiles kernels the first time they are evaluated and so the estimate of the evaluation time would be off."
      ]
    },
    {
      "metadata": {
        "id": "EFGmgznvcC4s",
        "colab_type": "code",
        "colab": {
          "base_uri": "https://localhost:8080/",
          "height": 2470
        },
        "outputId": "f3690ac0-b357-472b-b9cc-0e01a209ad62"
      },
      "cell_type": "code",
      "source": [
        "fast_likelihood.parameters.update(fast_priors.sample())\n",
        "fast_likelihood.log_likelihood_ratio()\n",
        "\n",
        "fast_result = bb.run_sampler(\n",
        "    likelihood=fast_likelihood, priors=fast_priors, sampler='dynesty',\n",
        "    nlive=100, label='fast')"
      ],
      "execution_count": 15,
      "outputs": [
        {
          "output_type": "stream",
          "text": [
            "04:47 bilby INFO    : Running for label 'fast', output will be saved to 'outdir'\n",
            "04:47 bilby INFO    : Search parameters:\n",
            "04:47 bilby INFO    :   alpha = Uniform(minimum=-2, maximum=4, name=None, latex_label='$\\\\alpha$', unit=None)\n",
            "04:47 bilby INFO    :   beta = Uniform(minimum=-4, maximum=12, name=None, latex_label='$\\\\beta$', unit=None)\n",
            "04:47 bilby INFO    :   mmin = Uniform(minimum=5, maximum=10, name=None, latex_label='$m_{\\\\min}$', unit=None)\n",
            "04:47 bilby INFO    :   mmax = Uniform(minimum=20, maximum=60, name=None, latex_label='$m_{\\\\max}$', unit=None)\n",
            "04:47 bilby INFO    :   lam = Uniform(minimum=0, maximum=1, name=None, latex_label='$\\\\lambda_{m}$', unit=None)\n",
            "04:47 bilby INFO    :   mpp = Uniform(minimum=10, maximum=50, name=None, latex_label='$\\\\mu_{m}$', unit=None)\n",
            "04:47 bilby INFO    :   sigpp = Uniform(minimum=0, maximum=10, name=None, latex_label='$\\\\sigma_{m}$', unit=None)\n",
            "04:47 bilby INFO    :   alpha_chi = Uniform(minimum=-4, maximum=12, name=None, latex_label='$\\\\alpha_{\\\\chi}$', unit=None)\n",
            "04:47 bilby INFO    :   beta_chi = Uniform(minimum=-4, maximum=12, name=None, latex_label='$\\\\beta_{\\\\chi}$', unit=None)\n",
            "04:47 bilby INFO    :   xi_spin = Uniform(minimum=0, maximum=1, name=None, latex_label='$\\\\xi$', unit=None)\n",
            "04:47 bilby INFO    :   amax = 1\n",
            "04:47 bilby INFO    : Single likelihood evaluation took 1.561e-02 s\n",
            "04:47 bilby INFO    : Using sampler Dynesty with kwargs {'bound': 'multi', 'sample': 'rwalk', 'verbose': True, 'check_point_delta_t': 600, 'nlive': 100, 'first_update': None, 'npdim': None, 'rstate': None, 'queue_size': None, 'pool': None, 'use_pool': None, 'live_points': None, 'logl_args': None, 'logl_kwargs': None, 'ptform_args': None, 'ptform_kwargs': None, 'enlarge': None, 'bootstrap': None, 'vol_dec': 0.5, 'vol_check': 2.0, 'facc': 0.5, 'slices': 5, 'walks': 50, 'update_interval': 60, 'print_func': <bound method Dynesty._print_func of <bilby.core.sampler.dynesty.Dynesty object at 0x7f64caabada0>>, 'dlogz': 0.1, 'maxiter': None, 'maxcall': None, 'logl_max': inf, 'add_live': True, 'print_progress': True, 'save_bounds': True}\n",
            " 3718| logz ratio=33.796 +/-  0.566 | dlogz: 34.318 >  0.100"
          ],
          "name": "stderr"
        },
        {
          "output_type": "error",
          "ename": "ValueError",
          "evalue": "ignored",
          "traceback": [
            "\u001b[0;31m---------------------------------------------------------------------------\u001b[0m",
            "\u001b[0;31mValueError\u001b[0m                                Traceback (most recent call last)",
            "\u001b[0;32m<ipython-input-15-d7253fdb3a3e>\u001b[0m in \u001b[0;36m<module>\u001b[0;34m()\u001b[0m\n\u001b[1;32m      4\u001b[0m fast_result = bb.run_sampler(\n\u001b[1;32m      5\u001b[0m     \u001b[0mlikelihood\u001b[0m\u001b[0;34m=\u001b[0m\u001b[0mfast_likelihood\u001b[0m\u001b[0;34m,\u001b[0m \u001b[0mpriors\u001b[0m\u001b[0;34m=\u001b[0m\u001b[0mfast_priors\u001b[0m\u001b[0;34m,\u001b[0m \u001b[0msampler\u001b[0m\u001b[0;34m=\u001b[0m\u001b[0;34m'dynesty'\u001b[0m\u001b[0;34m,\u001b[0m\u001b[0;34m\u001b[0m\u001b[0;34m\u001b[0m\u001b[0m\n\u001b[0;32m----> 6\u001b[0;31m     nlive=100, label='fast')\n\u001b[0m",
            "\u001b[0;32m/usr/local/lib/python3.6/dist-packages/bilby/core/sampler/__init__.py\u001b[0m in \u001b[0;36mrun_sampler\u001b[0;34m(likelihood, priors, label, outdir, sampler, use_ratio, injection_parameters, conversion_function, plot, default_priors_file, clean, meta_data, save, result_class, **kwargs)\u001b[0m\n\u001b[1;32m    162\u001b[0m         \u001b[0mresult\u001b[0m \u001b[0;34m=\u001b[0m \u001b[0msampler\u001b[0m\u001b[0;34m.\u001b[0m\u001b[0m_run_test\u001b[0m\u001b[0;34m(\u001b[0m\u001b[0;34m)\u001b[0m\u001b[0;34m\u001b[0m\u001b[0;34m\u001b[0m\u001b[0m\n\u001b[1;32m    163\u001b[0m     \u001b[0;32melse\u001b[0m\u001b[0;34m:\u001b[0m\u001b[0;34m\u001b[0m\u001b[0;34m\u001b[0m\u001b[0m\n\u001b[0;32m--> 164\u001b[0;31m         \u001b[0mresult\u001b[0m \u001b[0;34m=\u001b[0m \u001b[0msampler\u001b[0m\u001b[0;34m.\u001b[0m\u001b[0mrun_sampler\u001b[0m\u001b[0;34m(\u001b[0m\u001b[0;34m)\u001b[0m\u001b[0;34m\u001b[0m\u001b[0;34m\u001b[0m\u001b[0m\n\u001b[0m\u001b[1;32m    165\u001b[0m \u001b[0;34m\u001b[0m\u001b[0m\n\u001b[1;32m    166\u001b[0m     \u001b[0mend_time\u001b[0m \u001b[0;34m=\u001b[0m \u001b[0mdatetime\u001b[0m\u001b[0;34m.\u001b[0m\u001b[0mdatetime\u001b[0m\u001b[0;34m.\u001b[0m\u001b[0mnow\u001b[0m\u001b[0;34m(\u001b[0m\u001b[0;34m)\u001b[0m\u001b[0;34m\u001b[0m\u001b[0;34m\u001b[0m\u001b[0m\n",
            "\u001b[0;32m/usr/local/lib/python3.6/dist-packages/bilby/core/sampler/dynesty.py\u001b[0m in \u001b[0;36mrun_sampler\u001b[0;34m(self)\u001b[0m\n\u001b[1;32m    182\u001b[0m \u001b[0;34m\u001b[0m\u001b[0m\n\u001b[1;32m    183\u001b[0m         \u001b[0;32mif\u001b[0m \u001b[0mself\u001b[0m\u001b[0;34m.\u001b[0m\u001b[0mcheck_point\u001b[0m\u001b[0;34m:\u001b[0m\u001b[0;34m\u001b[0m\u001b[0;34m\u001b[0m\u001b[0m\n\u001b[0;32m--> 184\u001b[0;31m             \u001b[0mout\u001b[0m \u001b[0;34m=\u001b[0m \u001b[0mself\u001b[0m\u001b[0;34m.\u001b[0m\u001b[0m_run_external_sampler_with_checkpointing\u001b[0m\u001b[0;34m(\u001b[0m\u001b[0;34m)\u001b[0m\u001b[0;34m\u001b[0m\u001b[0;34m\u001b[0m\u001b[0m\n\u001b[0m\u001b[1;32m    185\u001b[0m         \u001b[0;32melse\u001b[0m\u001b[0;34m:\u001b[0m\u001b[0;34m\u001b[0m\u001b[0;34m\u001b[0m\u001b[0m\n\u001b[1;32m    186\u001b[0m             \u001b[0mout\u001b[0m \u001b[0;34m=\u001b[0m \u001b[0mself\u001b[0m\u001b[0;34m.\u001b[0m\u001b[0m_run_external_sampler_without_checkpointing\u001b[0m\u001b[0;34m(\u001b[0m\u001b[0;34m)\u001b[0m\u001b[0;34m\u001b[0m\u001b[0;34m\u001b[0m\u001b[0m\n",
            "\u001b[0;32m/usr/local/lib/python3.6/dist-packages/bilby/core/sampler/dynesty.py\u001b[0m in \u001b[0;36m_run_external_sampler_with_checkpointing\u001b[0;34m(self)\u001b[0m\n\u001b[1;32m    228\u001b[0m         \u001b[0;32mwhile\u001b[0m \u001b[0;32mTrue\u001b[0m\u001b[0;34m:\u001b[0m\u001b[0;34m\u001b[0m\u001b[0;34m\u001b[0m\u001b[0m\n\u001b[1;32m    229\u001b[0m             \u001b[0msampler_kwargs\u001b[0m\u001b[0;34m[\u001b[0m\u001b[0;34m'maxcall'\u001b[0m\u001b[0;34m]\u001b[0m \u001b[0;34m+=\u001b[0m \u001b[0mself\u001b[0m\u001b[0;34m.\u001b[0m\u001b[0mn_check_point\u001b[0m\u001b[0;34m\u001b[0m\u001b[0;34m\u001b[0m\u001b[0m\n\u001b[0;32m--> 230\u001b[0;31m             \u001b[0mself\u001b[0m\u001b[0;34m.\u001b[0m\u001b[0msampler\u001b[0m\u001b[0;34m.\u001b[0m\u001b[0mrun_nested\u001b[0m\u001b[0;34m(\u001b[0m\u001b[0;34m**\u001b[0m\u001b[0msampler_kwargs\u001b[0m\u001b[0;34m)\u001b[0m\u001b[0;34m\u001b[0m\u001b[0;34m\u001b[0m\u001b[0m\n\u001b[0m\u001b[1;32m    231\u001b[0m             \u001b[0;32mif\u001b[0m \u001b[0mself\u001b[0m\u001b[0;34m.\u001b[0m\u001b[0msampler\u001b[0m\u001b[0;34m.\u001b[0m\u001b[0mncall\u001b[0m \u001b[0;34m==\u001b[0m \u001b[0mold_ncall\u001b[0m\u001b[0;34m:\u001b[0m\u001b[0;34m\u001b[0m\u001b[0;34m\u001b[0m\u001b[0m\n\u001b[1;32m    232\u001b[0m                 \u001b[0;32mbreak\u001b[0m\u001b[0;34m\u001b[0m\u001b[0;34m\u001b[0m\u001b[0m\n",
            "\u001b[0;32m/usr/local/lib/python3.6/dist-packages/dynesty/sampler.py\u001b[0m in \u001b[0;36mrun_nested\u001b[0;34m(self, maxiter, maxcall, dlogz, logl_max, add_live, print_progress, print_func, save_bounds)\u001b[0m\n\u001b[1;32m    829\u001b[0m                                      \u001b[0mlogl_max\u001b[0m\u001b[0;34m=\u001b[0m\u001b[0mlogl_max\u001b[0m\u001b[0;34m,\u001b[0m\u001b[0;34m\u001b[0m\u001b[0;34m\u001b[0m\u001b[0m\n\u001b[1;32m    830\u001b[0m                                      \u001b[0msave_bounds\u001b[0m\u001b[0;34m=\u001b[0m\u001b[0msave_bounds\u001b[0m\u001b[0;34m,\u001b[0m\u001b[0;34m\u001b[0m\u001b[0;34m\u001b[0m\u001b[0m\n\u001b[0;32m--> 831\u001b[0;31m                                      save_samples=True)):\n\u001b[0m\u001b[1;32m    832\u001b[0m             (worst, ustar, vstar, loglstar, logvol, logwt,\n\u001b[1;32m    833\u001b[0m              \u001b[0mlogz\u001b[0m\u001b[0;34m,\u001b[0m \u001b[0mlogzvar\u001b[0m\u001b[0;34m,\u001b[0m \u001b[0mh\u001b[0m\u001b[0;34m,\u001b[0m \u001b[0mnc\u001b[0m\u001b[0;34m,\u001b[0m \u001b[0mworst_it\u001b[0m\u001b[0;34m,\u001b[0m \u001b[0mboundidx\u001b[0m\u001b[0;34m,\u001b[0m \u001b[0mbounditer\u001b[0m\u001b[0;34m,\u001b[0m\u001b[0;34m\u001b[0m\u001b[0;34m\u001b[0m\u001b[0m\n",
            "\u001b[0;32m/usr/local/lib/python3.6/dist-packages/dynesty/sampler.py\u001b[0m in \u001b[0;36msample\u001b[0;34m(self, maxiter, maxcall, dlogz, logl_max, save_bounds, save_samples)\u001b[0m\n\u001b[1;32m    676\u001b[0m             \u001b[0;32mif\u001b[0m \u001b[0mucheck\u001b[0m \u001b[0;32mand\u001b[0m \u001b[0mbcheck\u001b[0m\u001b[0;34m:\u001b[0m\u001b[0;34m\u001b[0m\u001b[0;34m\u001b[0m\u001b[0m\n\u001b[1;32m    677\u001b[0m                 \u001b[0mpointvol\u001b[0m \u001b[0;34m=\u001b[0m \u001b[0mmath\u001b[0m\u001b[0;34m.\u001b[0m\u001b[0mexp\u001b[0m\u001b[0;34m(\u001b[0m\u001b[0mlogvol\u001b[0m\u001b[0;34m)\u001b[0m \u001b[0;34m/\u001b[0m \u001b[0mself\u001b[0m\u001b[0;34m.\u001b[0m\u001b[0mnlive\u001b[0m\u001b[0;34m\u001b[0m\u001b[0;34m\u001b[0m\u001b[0m\n\u001b[0;32m--> 678\u001b[0;31m                 \u001b[0mbound\u001b[0m \u001b[0;34m=\u001b[0m \u001b[0mself\u001b[0m\u001b[0;34m.\u001b[0m\u001b[0mupdate\u001b[0m\u001b[0;34m(\u001b[0m\u001b[0mpointvol\u001b[0m\u001b[0;34m)\u001b[0m\u001b[0;34m\u001b[0m\u001b[0;34m\u001b[0m\u001b[0m\n\u001b[0m\u001b[1;32m    679\u001b[0m                 \u001b[0;32mif\u001b[0m \u001b[0mself\u001b[0m\u001b[0;34m.\u001b[0m\u001b[0msave_bounds\u001b[0m\u001b[0;34m:\u001b[0m\u001b[0;34m\u001b[0m\u001b[0;34m\u001b[0m\u001b[0m\n\u001b[1;32m    680\u001b[0m                     \u001b[0mself\u001b[0m\u001b[0;34m.\u001b[0m\u001b[0mbound\u001b[0m\u001b[0;34m.\u001b[0m\u001b[0mappend\u001b[0m\u001b[0;34m(\u001b[0m\u001b[0mbound\u001b[0m\u001b[0;34m)\u001b[0m\u001b[0;34m\u001b[0m\u001b[0;34m\u001b[0m\u001b[0m\n",
            "\u001b[0;32m/usr/local/lib/python3.6/dist-packages/dynesty/nestedsamplers.py\u001b[0m in \u001b[0;36mupdate\u001b[0;34m(self, pointvol)\u001b[0m\n\u001b[1;32m    567\u001b[0m                          \u001b[0mvol_dec\u001b[0m\u001b[0;34m=\u001b[0m\u001b[0mself\u001b[0m\u001b[0;34m.\u001b[0m\u001b[0mvol_dec\u001b[0m\u001b[0;34m,\u001b[0m \u001b[0mvol_check\u001b[0m\u001b[0;34m=\u001b[0m\u001b[0mself\u001b[0m\u001b[0;34m.\u001b[0m\u001b[0mvol_check\u001b[0m\u001b[0;34m,\u001b[0m\u001b[0;34m\u001b[0m\u001b[0;34m\u001b[0m\u001b[0m\n\u001b[1;32m    568\u001b[0m                          \u001b[0mrstate\u001b[0m\u001b[0;34m=\u001b[0m\u001b[0mself\u001b[0m\u001b[0;34m.\u001b[0m\u001b[0mrstate\u001b[0m\u001b[0;34m,\u001b[0m \u001b[0mbootstrap\u001b[0m\u001b[0;34m=\u001b[0m\u001b[0mself\u001b[0m\u001b[0;34m.\u001b[0m\u001b[0mbootstrap\u001b[0m\u001b[0;34m,\u001b[0m\u001b[0;34m\u001b[0m\u001b[0;34m\u001b[0m\u001b[0m\n\u001b[0;32m--> 569\u001b[0;31m                          pool=pool)\n\u001b[0m\u001b[1;32m    570\u001b[0m         \u001b[0;32mif\u001b[0m \u001b[0mself\u001b[0m\u001b[0;34m.\u001b[0m\u001b[0menlarge\u001b[0m \u001b[0;34m!=\u001b[0m \u001b[0;36m1.\u001b[0m\u001b[0;34m:\u001b[0m\u001b[0;34m\u001b[0m\u001b[0;34m\u001b[0m\u001b[0m\n\u001b[1;32m    571\u001b[0m             \u001b[0mself\u001b[0m\u001b[0;34m.\u001b[0m\u001b[0mmell\u001b[0m\u001b[0;34m.\u001b[0m\u001b[0mscale_to_vols\u001b[0m\u001b[0;34m(\u001b[0m\u001b[0mself\u001b[0m\u001b[0;34m.\u001b[0m\u001b[0mmell\u001b[0m\u001b[0;34m.\u001b[0m\u001b[0mvols\u001b[0m \u001b[0;34m*\u001b[0m \u001b[0mself\u001b[0m\u001b[0;34m.\u001b[0m\u001b[0menlarge\u001b[0m\u001b[0;34m)\u001b[0m\u001b[0;34m\u001b[0m\u001b[0;34m\u001b[0m\u001b[0m\n",
            "\u001b[0;32m/usr/local/lib/python3.6/dist-packages/dynesty/bounding.py\u001b[0m in \u001b[0;36mupdate\u001b[0;34m(self, points, pointvol, vol_dec, vol_check, rstate, bootstrap, pool, mc_integrate)\u001b[0m\n\u001b[1;32m    583\u001b[0m         \u001b[0;31m# Calculate the bounding ellipsoid for the points, possibly\u001b[0m\u001b[0;34m\u001b[0m\u001b[0;34m\u001b[0m\u001b[0;34m\u001b[0m\u001b[0m\n\u001b[1;32m    584\u001b[0m         \u001b[0;31m# enlarged to a minimum volume.\u001b[0m\u001b[0;34m\u001b[0m\u001b[0;34m\u001b[0m\u001b[0;34m\u001b[0m\u001b[0m\n\u001b[0;32m--> 585\u001b[0;31m         \u001b[0mell\u001b[0m \u001b[0;34m=\u001b[0m \u001b[0mbounding_ellipsoid\u001b[0m\u001b[0;34m(\u001b[0m\u001b[0mpoints\u001b[0m\u001b[0;34m,\u001b[0m \u001b[0mpointvol\u001b[0m\u001b[0;34m=\u001b[0m\u001b[0mpointvol\u001b[0m\u001b[0;34m)\u001b[0m\u001b[0;34m\u001b[0m\u001b[0;34m\u001b[0m\u001b[0m\n\u001b[0m\u001b[1;32m    586\u001b[0m \u001b[0;34m\u001b[0m\u001b[0m\n\u001b[1;32m    587\u001b[0m         \u001b[0;31m# Recursively split the bounding ellipsoid using `vol_check`\u001b[0m\u001b[0;34m\u001b[0m\u001b[0;34m\u001b[0m\u001b[0;34m\u001b[0m\u001b[0m\n",
            "\u001b[0;32m/usr/local/lib/python3.6/dist-packages/dynesty/bounding.py\u001b[0m in \u001b[0;36mbounding_ellipsoid\u001b[0;34m(points, pointvol)\u001b[0m\n\u001b[1;32m   1246\u001b[0m \u001b[0;34m\u001b[0m\u001b[0m\n\u001b[1;32m   1247\u001b[0m     \u001b[0;31m# Initialize our ellipsoid.\u001b[0m\u001b[0;34m\u001b[0m\u001b[0;34m\u001b[0m\u001b[0;34m\u001b[0m\u001b[0m\n\u001b[0;32m-> 1248\u001b[0;31m     \u001b[0mell\u001b[0m \u001b[0;34m=\u001b[0m \u001b[0mEllipsoid\u001b[0m\u001b[0;34m(\u001b[0m\u001b[0mctr\u001b[0m\u001b[0;34m,\u001b[0m \u001b[0mcovar\u001b[0m\u001b[0;34m)\u001b[0m\u001b[0;34m\u001b[0m\u001b[0;34m\u001b[0m\u001b[0m\n\u001b[0m\u001b[1;32m   1249\u001b[0m \u001b[0;34m\u001b[0m\u001b[0m\n\u001b[1;32m   1250\u001b[0m     \u001b[0;31m# Expand our ellipsoid to encompass a minimum volume.\u001b[0m\u001b[0;34m\u001b[0m\u001b[0;34m\u001b[0m\u001b[0;34m\u001b[0m\u001b[0m\n",
            "\u001b[0;32m/usr/local/lib/python3.6/dist-packages/dynesty/bounding.py\u001b[0m in \u001b[0;36m__init__\u001b[0;34m(self, ctr, cov)\u001b[0m\n\u001b[1;32m    167\u001b[0m             raise ValueError(\"The input precision matrix defining the \"\n\u001b[1;32m    168\u001b[0m                              \u001b[0;34m\"ellipsoid {0} is apparently singular with \"\u001b[0m\u001b[0;34m\u001b[0m\u001b[0;34m\u001b[0m\u001b[0m\n\u001b[0;32m--> 169\u001b[0;31m                              \"l={1} and v={2}.\".format(self.cov, l, v))\n\u001b[0m\u001b[1;32m    170\u001b[0m \u001b[0;34m\u001b[0m\u001b[0m\n\u001b[1;32m    171\u001b[0m         \u001b[0;31m# Scaled eigenvectors are the principle axes, where `paxes[:,i]` is the\u001b[0m\u001b[0;34m\u001b[0m\u001b[0;34m\u001b[0m\u001b[0;34m\u001b[0m\u001b[0m\n",
            "\u001b[0;31mValueError\u001b[0m: The input precision matrix defining the ellipsoid [[ 3.84212972e-01 -2.21952237e-01  9.72580149e-02 -3.13312895e-01\n   1.14918222e-10  3.87719710e-03  1.90888049e-04 -1.59680393e-01\n   1.09746023e-01  2.51865602e-01]\n [-2.21952237e-01  2.70645863e-01 -5.82076261e-02  1.55876767e-01\n   1.79263270e-10 -3.18477076e-02 -7.75711339e-05 -7.03087388e-02\n  -3.78350720e-02 -4.47271987e-02]\n [ 9.72580149e-02 -5.82076261e-02  9.23880955e-02 -1.01787593e-01\n   3.35330839e-10 -2.61905659e-03  7.16944598e-05 -6.80007914e-02\n   1.20370056e-02  1.33301811e-01]\n [-3.13312895e-01  1.55876767e-01 -1.01787593e-01  2.75131341e-01\n  -1.74009425e-10  1.61601903e-03 -1.73971286e-04  1.73086134e-01\n  -8.32744568e-02 -2.41820956e-01]\n [ 1.14918222e-10  1.79263270e-10  3.35330839e-10 -1.74009425e-10\n   1.03078239e-17 -1.19602647e-10  1.39272650e-13 -5.22353787e-10\n   1.49204999e-10  9.08358655e-10]\n [ 3.87719710e-03 -3.18477076e-02 -2.61905659e-03  1.61601903e-03\n  -1.19602647e-10  8.64757370e-03 -7.38179895e-06  4.34074141e-02\n  -7.39673030e-03 -3.32103280e-02]\n [ 1.90888049e-04 -7.75711339e-05  7.16944598e-05 -1.73971286e-04\n   1.39272650e-13 -7.38179895e-06  1.22053568e-07 -1.51282087e-04\n   5.31451448e-05  1.77998650e-04]\n [-1.59680393e-01 -7.03087388e-02 -6.80007914e-02  1.73086134e-01\n  -5.22353787e-10  4.34074141e-02 -1.51282087e-04  3.72682779e-01\n  -8.07492177e-02 -3.14884788e-01]\n [ 1.09746023e-01 -3.78350720e-02  1.20370056e-02 -8.32744568e-02\n   1.49204999e-10 -7.39673030e-03  5.31451448e-05 -8.07492177e-02\n   5.00610004e-02  9.90125058e-02]\n [ 2.51865602e-01 -4.47271987e-02  1.33301811e-01 -2.41820956e-01\n   9.08358655e-10 -3.32103280e-02  1.77998650e-04 -3.14884788e-01\n   9.90125058e-02  3.88433556e-01]] is apparently singular with l=[-7.95519604e-18  2.54617840e-09  4.48297727e-05  4.88435002e-04\n  3.24288510e-03  2.86842775e-02  3.84485078e-02  9.25952940e-02\n  4.78059487e-01  1.20063958e+00] and v=[[-2.47785979e-08 -2.96980156e-04 -3.80103617e-01  2.69335556e-01\n  -4.54049788e-01 -2.35093571e-01 -1.41652129e-01  3.53702607e-01\n   3.37555336e-01  5.12283953e-01]\n [ 1.09595213e-09 -2.02589021e-04 -1.44762824e-02  1.39745590e-01\n  -8.27542831e-02 -5.27956519e-01 -4.56597286e-01  1.58369274e-01\n  -6.45792262e-01 -2.09918210e-01]\n [ 1.99359321e-08  5.02126036e-04  3.02225519e-01 -2.91310086e-02\n  -5.08234414e-01  6.21463194e-02 -3.55222545e-01 -6.96015213e-01\n   2.12697308e-02  1.85940442e-01]\n [-1.26411218e-08 -6.84322665e-04 -2.49460812e-01  2.93573736e-01\n  -5.49423575e-01  5.65740248e-02  5.44651023e-01 -1.18787793e-01\n  -1.73536891e-01 -4.53482174e-01]\n [ 1.00000000e+00  9.57604303e-06 -8.35644486e-08 -9.39323434e-09\n   1.84279518e-09 -5.17701015e-09  3.75438534e-09 -3.91249265e-09\n  -1.31875635e-09  7.21754506e-10]\n [ 4.68259147e-08 -7.71486991e-04  3.67529581e-01  8.82983673e-01\n   2.37513467e-01  9.83625889e-02 -6.23627570e-02 -1.28482129e-02\n   1.20644936e-01 -2.37488722e-02]\n [ 9.57607946e-06 -9.99998998e-01  6.43194139e-04 -1.12952745e-03\n  -2.10678722e-04  2.61131578e-04 -3.28110895e-04  3.17867292e-05\n   8.65942376e-06  3.06100750e-04]\n [-6.50258913e-09 -3.25429064e-04 -6.97049436e-02 -3.22574171e-02\n   1.39520800e-01 -6.38038649e-01 -1.82763470e-02 -2.68584895e-01\n   5.76499321e-01 -4.03383025e-01]\n [ 5.14122116e-08  5.16608679e-04  7.15957133e-01 -1.57620890e-01\n  -2.31231986e-01 -3.58927692e-01  4.14301724e-01  2.86336694e-01\n  -2.83340570e-03  1.63158828e-01]\n [-1.96180035e-08 -4.32316595e-04 -2.21830824e-01  1.23891266e-01\n   3.12209957e-01 -3.36648881e-01  4.15640031e-01 -4.43817864e-01\n  -3.02533633e-01  5.13202489e-01]]."
          ]
        }
      ]
    },
    {
      "metadata": {
        "id": "vSrM3Dy1zsKL",
        "colab_type": "code",
        "colab": {}
      },
      "cell_type": "code",
      "source": [
        "_ = fast_result.plot_corner(save=False)"
      ],
      "execution_count": 0,
      "outputs": []
    },
    {
      "metadata": {
        "id": "aQsHGBSD2_hL",
        "colab_type": "code",
        "colab": {}
      },
      "cell_type": "code",
      "source": [
        ""
      ],
      "execution_count": 0,
      "outputs": []
    },
    {
      "metadata": {
        "id": "hBfS17v47-zu",
        "colab_type": "text"
      },
      "cell_type": "markdown",
      "source": [
        "## Define a new model\n",
        "\n",
        "### Let's define a new population model for BNS. \n",
        "\n",
        "Just as an example we'll use a Gaussian distribution bounded between $[1 M_{\\odot}, 2 M_{\\odot}]$.\n",
        "\n",
        "$$p(m_1, m_2) = N \\exp \\left(- \\frac{\\left((m_1 - \\mu)^2 + (m_2 - \\mu)^2\\right)}{2 \\sigma^2}\\right) \\quad : \\quad 1 \\leq m_2 \\leq m_1 \\leq 2$$\n",
        "\n",
        "We see that this function takes three arguments:\n",
        "- `dataset`: this is common to all of the population models in `gwpopulation`, it is a dictionary containing the data to be evaluated, here it is assumed to contain entries for `mass_1` and `mass_2`, the _source-frame_ masses.\n",
        "- `mu_bns`: the peak of the bns mass distribution.\n",
        "- `sigma_bns`: the width of the bns mass distribution."
      ]
    },
    {
      "metadata": {
        "id": "qRKha-Mv8Zav",
        "colab_type": "code",
        "colab": {}
      },
      "cell_type": "code",
      "source": [
        "def truncated_gaussian_primary_secondary_identical(dataset, mu_bns, sigma_bns):\n",
        "    prob = gwpop.utils.truncnorm(\n",
        "        dataset['mass_1'], mu=mu_bns, sigma=sigma_bns, low=1, high=2)\n",
        "    prob *= gwpop.utils.truncnorm(\n",
        "        dataset['mass_2'], mu=mu_bns, sigma=sigma_bns, low=1, high=2)\n",
        "    prob *= (dataset['mass_1'] >= dataset['mass_2'])\n",
        "    prob *= 2\n",
        "    return prob"
      ],
      "execution_count": 0,
      "outputs": []
    },
    {
      "metadata": {
        "id": "IflaTL8l9TJQ",
        "colab_type": "text"
      },
      "cell_type": "markdown",
      "source": [
        "## Load GW170817 posterior\n",
        "\n",
        "This is just the same as above."
      ]
    },
    {
      "metadata": {
        "id": "ubZz578B9ATE",
        "colab_type": "code",
        "colab": {}
      },
      "cell_type": "code",
      "source": [
        "posterior = pd.DataFrame()\n",
        "prior = pd.DataFrame()\n",
        "with h5py.File('./GWTC-1_sample_release/GW170817_GWTC-1.hdf5') as ff:\n",
        "    for my_key, gwtc_key in parameter_translator.items():\n",
        "        try:\n",
        "            posterior[my_key] = ff['IMRPhenomPv2NRT_lowSpin_posterior'][gwtc_key]\n",
        "            prior[my_key] = ff['IMRPhenomPv2NRT_lowSpin_prior'][gwtc_key]\n",
        "        except ValueError:\n",
        "            pass\n",
        "        \n",
        "posterior['redshift'] = dl_to_z(posterior['luminosity_distance'])\n",
        "posterior['mass_1'] = posterior['mass_1_det'] / (1 + posterior['redshift'])\n",
        "posterior['mass_2'] = posterior['mass_2_det'] / (1 + posterior['redshift'])"
      ],
      "execution_count": 0,
      "outputs": []
    },
    {
      "metadata": {
        "id": "ktT2Ydiw9Yak",
        "colab_type": "text"
      },
      "cell_type": "markdown",
      "source": [
        "## Define the new likelihood\n",
        "\n",
        "We use the same likelihood as before.\n",
        "\n",
        "_Note_:\n",
        "- This time we cast our posterior to a list while creating the likelihood.\n",
        "- We pass the function rather than a `Model` object as before, `bilby` will turn this into a `Model` for internal use.\n",
        "- We've removed the selection and conversion functions as they aren't needed here (yes, a selection function is techinically needed)."
      ]
    },
    {
      "metadata": {
        "id": "0xqYdOKV9F1E",
        "colab_type": "code",
        "colab": {}
      },
      "cell_type": "code",
      "source": [
        "bns_likelihood = gwpop.hyperpe.HyperparameterLikelihood(\n",
        "    posteriors=[posterior],\n",
        "    hyper_prior=truncated_gaussian_primary_secondary_identical)"
      ],
      "execution_count": 0,
      "outputs": []
    },
    {
      "metadata": {
        "id": "iGHtErVA9hBb",
        "colab_type": "text"
      },
      "cell_type": "markdown",
      "source": [
        "## Define the new prior\n",
        "\n",
        "Just as before."
      ]
    },
    {
      "metadata": {
        "id": "gn_vPWIW9MED",
        "colab_type": "code",
        "colab": {}
      },
      "cell_type": "code",
      "source": [
        "bns_priors = PriorDict()\n",
        "bns_priors['mu_bns'] = Uniform(minimum=1, maximum=2, latex_label='$\\\\mu_{bns}$')\n",
        "bns_priors['sigma_bns'] = LogUniform(minimum=1e-2, maximum=1, latex_label='$\\\\sigma_{bns}$')"
      ],
      "execution_count": 0,
      "outputs": []
    },
    {
      "metadata": {
        "id": "d_gwpGQi9e0M",
        "colab_type": "code",
        "colab": {}
      },
      "cell_type": "code",
      "source": [
        "bns_likelihood.parameters.update(bns_priors.sample())\n",
        "bns_likelihood.log_likelihood_ratio()\n",
        "\n",
        "bns_result = bb.run_sampler(\n",
        "    likelihood=bns_likelihood, priors=bns_priors, sampler='dynesty',\n",
        "    nlive=1000)"
      ],
      "execution_count": 0,
      "outputs": []
    },
    {
      "metadata": {
        "id": "Y1O73fzb9t1S",
        "colab_type": "code",
        "colab": {
          "base_uri": "https://localhost:8080/",
          "height": 408
        },
        "outputId": "066506ce-6fc8-484f-b109-874fca43f045"
      },
      "cell_type": "code",
      "source": [
        "_ = bns_result.plot_corner(save=False)"
      ],
      "execution_count": 58,
      "outputs": [
        {
          "output_type": "display_data",
          "data": {
            "image/png": "[encoded data removed]",
            "text/plain": [
              "<Figure size 396x396 with 4 Axes>"
            ]
          },
          "metadata": {
            "tags": []
          }
        }
      ]
    },
    {
      "metadata": {
        "id": "S6qZ7u6N-9Dv",
        "colab_type": "code",
        "colab": {}
      },
      "cell_type": "code",
      "source": [
        ""
      ],
      "execution_count": 0,
      "outputs": []
    },
    {
      "metadata": {
        "id": "mxXt8coXANxX",
        "colab_type": "text"
      },
      "cell_type": "markdown",
      "source": [
        "# Do it all\n",
        "\n",
        "Let's put together a run with models for the mass, spin and redshift distributions.\n",
        "\n",
        "**This will not give sensible answers because VT is not estimated.**\n",
        "\n",
        "The data for VT estimation isn't available in this notebook.\n",
        "\n",
        "Note that the redshift model is a class and so is called slightly differently.\n",
        "This is to enable caching of expensive data internally.\n",
        "To call this `bilby>=0.4.2` is required."
      ]
    },
    {
      "metadata": {
        "id": "LTq6eP5qAgLm",
        "colab_type": "code",
        "colab": {}
      },
      "cell_type": "code",
      "source": [
        "full_model = Model([\n",
        "    gwpop.models.mass.two_component_primary_mass_ratio,\n",
        "    gwpop.models.spin.iid_spin_magnitude_beta,\n",
        "    gwpop.models.spin.independent_spin_orientation_gaussian_isotropic,\n",
        "    gwpop.models.redshift.PowerLawRedshift()])"
      ],
      "execution_count": 0,
      "outputs": []
    },
    {
      "metadata": {
        "id": "T4Ize_dKRtC_",
        "colab_type": "text"
      },
      "cell_type": "markdown",
      "source": [
        "## Update sampling prior\n",
        "\n",
        "We need to update the sampling prior to account for the new redshift evolution model.\n",
        "\n",
        "Fortunately, we defined an interpolant for this earlier."
      ]
    },
    {
      "metadata": {
        "id": "7i0WSBDZRunm",
        "colab_type": "code",
        "colab": {}
      },
      "cell_type": "code",
      "source": [
        "for posterior in posteriors:\n",
        "    posterior['prior'] *= redshift_prior(posterior['redshift'])"
      ],
      "execution_count": 0,
      "outputs": []
    },
    {
      "metadata": {
        "id": "5JxwG1xNSJ_9",
        "colab_type": "text"
      },
      "cell_type": "markdown",
      "source": [
        "## Likelihood\n",
        "\n",
        "We use a different likelihood class `RateLikelihood`, this will simultaneously estimate the local merger rate as well as the population distribution.\n",
        "\n",
        "This is created just as before."
      ]
    },
    {
      "metadata": {
        "id": "v-o0X0OiBaug",
        "colab_type": "code",
        "colab": {}
      },
      "cell_type": "code",
      "source": [
        "full_likelihood = gwpop.hyperpe.RateLikelihood(\n",
        "    posteriors=posteriors, hyper_prior=full_model)"
      ],
      "execution_count": 0,
      "outputs": []
    },
    {
      "metadata": {
        "id": "RkzUAuX4SNQ_",
        "colab_type": "text"
      },
      "cell_type": "markdown",
      "source": [
        "## Prior\n",
        "\n",
        "This is just a longer version of the previous."
      ]
    },
    {
      "metadata": {
        "id": "F2DXzB_KA8sR",
        "colab_type": "code",
        "colab": {}
      },
      "cell_type": "code",
      "source": [
        "full_priors = prior.PriorDict()\n",
        "\n",
        "# rate\n",
        "fast_priors['rate'] = LogUniform(minimum=1e-20, maximum=1e20, latex_label='$R$')\n",
        "# mass\n",
        "full_priors['alpha'] = Uniform(minimum=-4, maximum=12, latex_label='$\\\\alpha$')\n",
        "full_priors['beta'] = Uniform(minimum=-4, maximum=12, latex_label='$\\\\beta$')\n",
        "full_priors['mmin'] = Uniform(minimum=5, maximum=10, latex_label='$m_{\\\\min}$')\n",
        "full_priors['mmax'] = Uniform(minimum=20, maximum=60, latex_label='$m_{\\\\max}$')\n",
        "full_priors['lam'] = Uniform(minimum=0, maximum=1, latex_label='$\\\\lambda_{m}$')\n",
        "full_priors['mpp'] = Uniform(minimum=20, maximum=50, latex_label='$\\\\mu_{m}$')\n",
        "full_priors['sigpp'] = Uniform(minimum=0, maximum=10, latex_label='$\\\\sigma_{m}$')\n",
        "# spin magnitude\n",
        "full_priors['amax'] = 1\n",
        "full_priors['alpha_chi'] = Uniform(minimum=-4, maximum=12, latex_label='$\\\\alpha_{\\\\chi}$')\n",
        "full_priors['beta_chi'] = Uniform(minimum=-4, maximum=12, latex_label='$\\\\beta_{\\\\chi}$')\n",
        "# spin orientation\n",
        "full_priors['xi_spin'] = Uniform(minimum=0, maximum=1, latex_label='$\\\\xi$')\n",
        "full_priors['sigma_1'] = Uniform(minimum=0, maximum=4, latex_label='$\\\\sigma{1}$')\n",
        "full_priors['sigma_2'] = Uniform(minimum=0, maximum=4, latex_label='$\\\\sigma{2}$')\n",
        "# redshift evolution\n",
        "full_priors['lamb'] = Uniform(minimum=-25, maximum=25, latex_label='$\\\\lambda_{z}$')"
      ],
      "execution_count": 0,
      "outputs": []
    },
    {
      "metadata": {
        "id": "PDd-8Z_WBXEs",
        "colab_type": "code",
        "colab": {
          "base_uri": "https://localhost:8080/",
          "height": 1446
        },
        "outputId": "179eb371-2ef4-4c4c-d00a-b71bd29b8e61"
      },
      "cell_type": "code",
      "source": [
        "full_likelihood.parameters.update(full_priors.sample())\n",
        "full_likelihood.log_likelihood_ratio()\n",
        "\n",
        "full_result = run_sampler(\n",
        "    likelihood=full_likelihood, priors=full_priors, sampler='dynesty',\n",
        "    nlive=100)"
      ],
      "execution_count": 74,
      "outputs": [
        {
          "output_type": "stream",
          "text": [
            "21:06 bilby INFO    : Running for label 'label', output will be saved to 'outdir'\n",
            "21:06 bilby WARNING : Parameter sigma_spin has no default prior and is set to 3.050728100709964, this will not be sampled and may cause an error.\n",
            "21:06 bilby WARNING : Parameter kappa has no default prior and is set to 8.268679698949754, this will not be sampled and may cause an error.\n",
            "21:06 bilby WARNING : Parameter dataset has no default prior and is set to None, this will not be sampled and may cause an error.\n",
            "21:06 bilby INFO    : Search parameters:\n",
            "21:06 bilby INFO    :   rate = LogUniform(minimum=1.0, maximum=1000.0, name=None, latex_label='$R$', unit=None)\n",
            "21:06 bilby INFO    :   alpha = Uniform(minimum=-4, maximum=12, name=None, latex_label='$\\\\alpha$', unit=None)\n",
            "21:06 bilby INFO    :   beta = Uniform(minimum=-4, maximum=12, name=None, latex_label='$\\\\beta$', unit=None)\n",
            "21:06 bilby INFO    :   mmin = Uniform(minimum=5, maximum=10, name=None, latex_label='$m_{\\\\min}$', unit=None)\n",
            "21:06 bilby INFO    :   mmax = Uniform(minimum=20, maximum=60, name=None, latex_label='$m_{\\\\max}$', unit=None)\n",
            "21:06 bilby INFO    :   lam = Uniform(minimum=0, maximum=1, name=None, latex_label='$\\\\lambda_{m}$', unit=None)\n",
            "21:06 bilby INFO    :   mpp = Uniform(minimum=20, maximum=50, name=None, latex_label='$\\\\mu_{m}$', unit=None)\n",
            "21:06 bilby INFO    :   sigpp = Uniform(minimum=0, maximum=10, name=None, latex_label='$\\\\sigma_{m}$', unit=None)\n",
            "21:06 bilby INFO    :   alpha_chi = Uniform(minimum=-4, maximum=12, name=None, latex_label='$\\\\alpha_{\\\\chi}$', unit=None)\n",
            "21:06 bilby INFO    :   beta_chi = Uniform(minimum=-4, maximum=12, name=None, latex_label='$\\\\beta_{\\\\chi}$', unit=None)\n",
            "21:06 bilby INFO    :   xi_spin = Uniform(minimum=0, maximum=1, name=None, latex_label='$\\\\xi$', unit=None)\n",
            "21:06 bilby INFO    :   sigma_1 = Uniform(minimum=0, maximum=4, name=None, latex_label='$\\\\sigma{1}$', unit=None)\n",
            "21:06 bilby INFO    :   sigma_2 = Uniform(minimum=0, maximum=4, name=None, latex_label='$\\\\sigma{2}$', unit=None)\n",
            "21:06 bilby INFO    :   lamb = Uniform(minimum=-25, maximum=25, name=None, latex_label='$\\\\lambda_{z}$', unit=None)\n",
            "21:06 bilby INFO    :   amax = 1\n"
          ],
          "name": "stderr"
        },
        {
          "output_type": "error",
          "ename": "TypeError",
          "evalue": "ignored",
          "traceback": [
            "\u001b[0;31m---------------------------------------------------------------------------\u001b[0m",
            "\u001b[0;31mTypeError\u001b[0m                                 Traceback (most recent call last)",
            "\u001b[0;32m/usr/local/lib/python3.6/dist-packages/bilby/core/sampler/base_sampler.py\u001b[0m in \u001b[0;36m_verify_parameters\u001b[0;34m(self)\u001b[0m\n\u001b[1;32m    250\u001b[0m             \u001b[0mt1\u001b[0m \u001b[0;34m=\u001b[0m \u001b[0mdatetime\u001b[0m\u001b[0;34m.\u001b[0m\u001b[0mdatetime\u001b[0m\u001b[0;34m.\u001b[0m\u001b[0mnow\u001b[0m\u001b[0;34m(\u001b[0m\u001b[0;34m)\u001b[0m\u001b[0;34m\u001b[0m\u001b[0;34m\u001b[0m\u001b[0m\n\u001b[0;32m--> 251\u001b[0;31m             \u001b[0mself\u001b[0m\u001b[0;34m.\u001b[0m\u001b[0mlikelihood\u001b[0m\u001b[0;34m.\u001b[0m\u001b[0mlog_likelihood\u001b[0m\u001b[0;34m(\u001b[0m\u001b[0;34m)\u001b[0m\u001b[0;34m\u001b[0m\u001b[0;34m\u001b[0m\u001b[0m\n\u001b[0m\u001b[1;32m    252\u001b[0m             self._log_likelihood_eval_time = (\n",
            "\u001b[0;32m/usr/local/lib/python3.6/dist-packages/gwpopulation/hyperpe.py\u001b[0m in \u001b[0;36mlog_likelihood\u001b[0;34m(self)\u001b[0m\n\u001b[1;32m     88\u001b[0m     \u001b[0;32mdef\u001b[0m \u001b[0mlog_likelihood\u001b[0m\u001b[0;34m(\u001b[0m\u001b[0mself\u001b[0m\u001b[0;34m)\u001b[0m\u001b[0;34m:\u001b[0m\u001b[0;34m\u001b[0m\u001b[0;34m\u001b[0m\u001b[0m\n\u001b[0;32m---> 89\u001b[0;31m         \u001b[0;32mreturn\u001b[0m \u001b[0mself\u001b[0m\u001b[0;34m.\u001b[0m\u001b[0mnoise_log_likelihood\u001b[0m\u001b[0;34m(\u001b[0m\u001b[0;34m)\u001b[0m \u001b[0;34m+\u001b[0m \u001b[0mself\u001b[0m\u001b[0;34m.\u001b[0m\u001b[0mlog_likelihood_ratio\u001b[0m\u001b[0;34m(\u001b[0m\u001b[0;34m)\u001b[0m\u001b[0;34m\u001b[0m\u001b[0;34m\u001b[0m\u001b[0m\n\u001b[0m\u001b[1;32m     90\u001b[0m \u001b[0;34m\u001b[0m\u001b[0m\n",
            "\u001b[0;32m/usr/local/lib/python3.6/dist-packages/gwpopulation/hyperpe.py\u001b[0m in \u001b[0;36mlog_likelihood_ratio\u001b[0;34m(self)\u001b[0m\n\u001b[1;32m     75\u001b[0m         \u001b[0mself\u001b[0m\u001b[0;34m.\u001b[0m\u001b[0mhyper_prior\u001b[0m\u001b[0;34m.\u001b[0m\u001b[0mparameters\u001b[0m\u001b[0;34m.\u001b[0m\u001b[0mupdate\u001b[0m\u001b[0;34m(\u001b[0m\u001b[0mself\u001b[0m\u001b[0;34m.\u001b[0m\u001b[0mparameters\u001b[0m\u001b[0;34m)\u001b[0m\u001b[0;34m\u001b[0m\u001b[0;34m\u001b[0m\u001b[0m\n\u001b[0;32m---> 76\u001b[0;31m         ln_l = xp.sum(xp.log(xp.sum(self.hyper_prior.prob(self.data) /\n\u001b[0m\u001b[1;32m     77\u001b[0m                                     self.sampling_prior, axis=-1)))\n",
            "\u001b[0;32m/usr/local/lib/python3.6/dist-packages/bilby/hyper/model.py\u001b[0m in \u001b[0;36mprob\u001b[0;34m(self, data)\u001b[0m\n\u001b[1;32m     28\u001b[0m         \u001b[0;32mfor\u001b[0m \u001b[0mii\u001b[0m\u001b[0;34m,\u001b[0m \u001b[0mfunction\u001b[0m \u001b[0;32min\u001b[0m \u001b[0menumerate\u001b[0m\u001b[0;34m(\u001b[0m\u001b[0mself\u001b[0m\u001b[0;34m.\u001b[0m\u001b[0mmodels\u001b[0m\u001b[0;34m)\u001b[0m\u001b[0;34m:\u001b[0m\u001b[0;34m\u001b[0m\u001b[0;34m\u001b[0m\u001b[0m\n\u001b[0;32m---> 29\u001b[0;31m             \u001b[0mprobability\u001b[0m \u001b[0;34m*=\u001b[0m \u001b[0mfunction\u001b[0m\u001b[0;34m(\u001b[0m\u001b[0mdata\u001b[0m\u001b[0;34m,\u001b[0m \u001b[0;34m**\u001b[0m\u001b[0mself\u001b[0m\u001b[0;34m.\u001b[0m\u001b[0m_get_function_parameters\u001b[0m\u001b[0;34m(\u001b[0m\u001b[0mfunction\u001b[0m\u001b[0;34m)\u001b[0m\u001b[0;34m)\u001b[0m\u001b[0;34m\u001b[0m\u001b[0;34m\u001b[0m\u001b[0m\n\u001b[0m\u001b[1;32m     30\u001b[0m         \u001b[0;32mreturn\u001b[0m \u001b[0mprobability\u001b[0m\u001b[0;34m\u001b[0m\u001b[0;34m\u001b[0m\u001b[0m\n",
            "\u001b[0;31mTypeError\u001b[0m: __call__() got multiple values for argument 'dataset'",
            "\nDuring handling of the above exception, another exception occurred:\n",
            "\u001b[0;31mTypeError\u001b[0m                                 Traceback (most recent call last)",
            "\u001b[0;32m<ipython-input-74-9891f68f3d6b>\u001b[0m in \u001b[0;36m<module>\u001b[0;34m()\u001b[0m\n\u001b[1;32m      3\u001b[0m \u001b[0;34m\u001b[0m\u001b[0m\n\u001b[1;32m      4\u001b[0m full_result = run_sampler(likelihood=full_likelihood, priors=full_priors,\n\u001b[0;32m----> 5\u001b[0;31m                           sampler='dynesty', nlive=100)\n\u001b[0m",
            "\u001b[0;32m/usr/local/lib/python3.6/dist-packages/bilby/core/sampler/__init__.py\u001b[0m in \u001b[0;36mrun_sampler\u001b[0;34m(likelihood, priors, label, outdir, sampler, use_ratio, injection_parameters, conversion_function, plot, default_priors_file, clean, meta_data, save, result_class, **kwargs)\u001b[0m\n\u001b[1;32m    137\u001b[0m                 \u001b[0minjection_parameters\u001b[0m\u001b[0;34m=\u001b[0m\u001b[0minjection_parameters\u001b[0m\u001b[0;34m,\u001b[0m \u001b[0mmeta_data\u001b[0m\u001b[0;34m=\u001b[0m\u001b[0mmeta_data\u001b[0m\u001b[0;34m,\u001b[0m\u001b[0;34m\u001b[0m\u001b[0;34m\u001b[0m\u001b[0m\n\u001b[1;32m    138\u001b[0m                 \u001b[0muse_ratio\u001b[0m\u001b[0;34m=\u001b[0m\u001b[0muse_ratio\u001b[0m\u001b[0;34m,\u001b[0m \u001b[0mplot\u001b[0m\u001b[0;34m=\u001b[0m\u001b[0mplot\u001b[0m\u001b[0;34m,\u001b[0m \u001b[0mresult_class\u001b[0m\u001b[0;34m=\u001b[0m\u001b[0mresult_class\u001b[0m\u001b[0;34m,\u001b[0m\u001b[0;34m\u001b[0m\u001b[0;34m\u001b[0m\u001b[0m\n\u001b[0;32m--> 139\u001b[0;31m                 **kwargs)\n\u001b[0m\u001b[1;32m    140\u001b[0m         \u001b[0;32melse\u001b[0m\u001b[0;34m:\u001b[0m\u001b[0;34m\u001b[0m\u001b[0;34m\u001b[0m\u001b[0m\n\u001b[1;32m    141\u001b[0m             \u001b[0mprint\u001b[0m\u001b[0;34m(\u001b[0m\u001b[0mIMPLEMENTED_SAMPLERS\u001b[0m\u001b[0;34m)\u001b[0m\u001b[0;34m\u001b[0m\u001b[0;34m\u001b[0m\u001b[0m\n",
            "\u001b[0;32m/usr/local/lib/python3.6/dist-packages/bilby/core/sampler/dynesty.py\u001b[0m in \u001b[0;36m__init__\u001b[0;34m(self, likelihood, priors, outdir, label, use_ratio, plot, skip_import_verification, check_point, n_check_point, check_point_delta_t, resume, **kwargs)\u001b[0m\n\u001b[1;32m     92\u001b[0m                                \u001b[0muse_ratio\u001b[0m\u001b[0;34m=\u001b[0m\u001b[0muse_ratio\u001b[0m\u001b[0;34m,\u001b[0m \u001b[0mplot\u001b[0m\u001b[0;34m=\u001b[0m\u001b[0mplot\u001b[0m\u001b[0;34m,\u001b[0m\u001b[0;34m\u001b[0m\u001b[0;34m\u001b[0m\u001b[0m\n\u001b[1;32m     93\u001b[0m                                \u001b[0mskip_import_verification\u001b[0m\u001b[0;34m=\u001b[0m\u001b[0mskip_import_verification\u001b[0m\u001b[0;34m,\u001b[0m\u001b[0;34m\u001b[0m\u001b[0;34m\u001b[0m\u001b[0m\n\u001b[0;32m---> 94\u001b[0;31m                                **kwargs)\n\u001b[0m\u001b[1;32m     95\u001b[0m         \u001b[0mself\u001b[0m\u001b[0;34m.\u001b[0m\u001b[0mn_check_point\u001b[0m \u001b[0;34m=\u001b[0m \u001b[0mn_check_point\u001b[0m\u001b[0;34m\u001b[0m\u001b[0;34m\u001b[0m\u001b[0m\n\u001b[1;32m     96\u001b[0m         \u001b[0mself\u001b[0m\u001b[0;34m.\u001b[0m\u001b[0mcheck_point\u001b[0m \u001b[0;34m=\u001b[0m \u001b[0mcheck_point\u001b[0m\u001b[0;34m\u001b[0m\u001b[0;34m\u001b[0m\u001b[0m\n",
            "\u001b[0;32m/usr/local/lib/python3.6/dist-packages/bilby/core/sampler/base_sampler.py\u001b[0m in \u001b[0;36m__init__\u001b[0;34m(self, likelihood, priors, outdir, label, use_ratio, plot, skip_import_verification, injection_parameters, meta_data, result_class, **kwargs)\u001b[0m\n\u001b[1;32m    106\u001b[0m         \u001b[0mself\u001b[0m\u001b[0;34m.\u001b[0m\u001b[0m__fixed_parameter_keys\u001b[0m \u001b[0;34m=\u001b[0m \u001b[0;34m[\u001b[0m\u001b[0;34m]\u001b[0m\u001b[0;34m\u001b[0m\u001b[0;34m\u001b[0m\u001b[0m\n\u001b[1;32m    107\u001b[0m         \u001b[0mself\u001b[0m\u001b[0;34m.\u001b[0m\u001b[0m_initialise_parameters\u001b[0m\u001b[0;34m(\u001b[0m\u001b[0;34m)\u001b[0m\u001b[0;34m\u001b[0m\u001b[0;34m\u001b[0m\u001b[0m\n\u001b[0;32m--> 108\u001b[0;31m         \u001b[0mself\u001b[0m\u001b[0;34m.\u001b[0m\u001b[0m_verify_parameters\u001b[0m\u001b[0;34m(\u001b[0m\u001b[0;34m)\u001b[0m\u001b[0;34m\u001b[0m\u001b[0;34m\u001b[0m\u001b[0m\n\u001b[0m\u001b[1;32m    109\u001b[0m         \u001b[0mself\u001b[0m\u001b[0;34m.\u001b[0m\u001b[0m_verify_use_ratio\u001b[0m\u001b[0;34m(\u001b[0m\u001b[0;34m)\u001b[0m\u001b[0;34m\u001b[0m\u001b[0;34m\u001b[0m\u001b[0m\n\u001b[1;32m    110\u001b[0m         \u001b[0mself\u001b[0m\u001b[0;34m.\u001b[0m\u001b[0mkwargs\u001b[0m \u001b[0;34m=\u001b[0m \u001b[0mkwargs\u001b[0m\u001b[0;34m\u001b[0m\u001b[0;34m\u001b[0m\u001b[0m\n",
            "\u001b[0;32m/usr/local/lib/python3.6/dist-packages/bilby/core/sampler/base_sampler.py\u001b[0m in \u001b[0;36m_verify_parameters\u001b[0;34m(self)\u001b[0m\n\u001b[1;32m    262\u001b[0m                 \u001b[0;34m\"Likelihood evaluation failed with message: \\n'{}'\\n\"\u001b[0m\u001b[0;34m\u001b[0m\u001b[0;34m\u001b[0m\u001b[0m\n\u001b[1;32m    263\u001b[0m                 \u001b[0;34m\"Have you specified all the parameters:\\n{}\"\u001b[0m\u001b[0;34m\u001b[0m\u001b[0;34m\u001b[0m\u001b[0m\n\u001b[0;32m--> 264\u001b[0;31m                 .format(e, self.likelihood.parameters))\n\u001b[0m\u001b[1;32m    265\u001b[0m \u001b[0;34m\u001b[0m\u001b[0m\n\u001b[1;32m    266\u001b[0m     \u001b[0;32mdef\u001b[0m \u001b[0m_verify_use_ratio\u001b[0m\u001b[0;34m(\u001b[0m\u001b[0mself\u001b[0m\u001b[0;34m)\u001b[0m\u001b[0;34m:\u001b[0m\u001b[0;34m\u001b[0m\u001b[0;34m\u001b[0m\u001b[0m\n",
            "\u001b[0;31mTypeError\u001b[0m: Likelihood evaluation failed with message: \n'__call__() got multiple values for argument 'dataset''\nHave you specified all the parameters:\n{'alpha': 6.219427624588485, 'beta': -2.068371734162872, 'mmin': 6.057702602422961, 'mmax': 54.22539298152749, 'lam': 0.49494424528921277, 'mpp': 26.906478892296782, 'sigpp': 3.2709134050817013, 'amax': 1.0, 'alpha_chi': 5.678992907140403, 'beta_chi': 4.55513147063844, 'xi_spin': 0.267328097178134, 'sigma_1': 0.8524782546301353, 'sigma_2': 2.5706598432272387, 'dataset': None, 'lamb': 23.629474021042903, 'kappa': 8.268679698949754, 'rate': 59.99485151482, 'sigma_spin': 3.050728100709964}"
          ]
        }
      ]
    },
    {
      "metadata": {
        "id": "YTUSxNj5BjXR",
        "colab_type": "code",
        "colab": {}
      },
      "cell_type": "code",
      "source": [
        ""
      ],
      "execution_count": 0,
      "outputs": []
    }
  ]
}